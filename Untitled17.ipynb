{
  "nbformat": 4,
  "nbformat_minor": 0,
  "metadata": {
    "colab": {
      "provenance": []
    },
    "kernelspec": {
      "name": "python3",
      "display_name": "Python 3"
    },
    "language_info": {
      "name": "python"
    }
  },
  "cells": [
    {
      "cell_type": "code",
      "execution_count": null,
      "metadata": {
        "id": "ziv4pr8bMP82"
      },
      "outputs": [],
      "source": [
        "dictionary = {1: 10, 2: 20, 3: 30, 4: 40, 5: 50, 6: 60}\n",
        "# buat judul atas\n",
        "print(\"Key\", \"value\", \"Item\", sep='\\t')\n",
        "#buat variabel\n",
        "item = 1\n",
        "# Iterasi but 2 variabels\n",
        "for key, nilai in dictionary.items():\n",
        "#output\n",
        "    print(key, nilai, item, sep='\\t')\n",
        "#ditamnbah 1 variablenya(nanti dijelasin)\n",
        "    item += 1"
      ]
    },
    {
      "cell_type": "code",
      "source": [
        "#buat list\n",
        "Lista = ['red', 'green', 'blue']\n",
        "Listb = ['#FF0000', '#008000', '#0000FF']\n",
        "#buat dictionary kosong\n",
        "dictionary = {}\n",
        "# masukan pasangan keys supaya sesuai urutan di modul\n",
        "dictionary['green'] = Listb[1]\n",
        "dictionary['blue'] = Listb[2]\n",
        "dictionary['red'] = Listb[0]\n",
        "#buat ke string n ubah kurung ke kerawal\n",
        "string = str(dictionary).replace('[', '{').replace(']', '}')\n",
        "# Print output\n",
        "print(string)"
      ],
      "metadata": {
        "id": "rbd15w7vMbPF"
      },
      "execution_count": null,
      "outputs": []
    },
    {
      "cell_type": "code",
      "source": [
        "\n",
        "import mailbox\n",
        "#buat dictionary kosong untuk nantinya diisi\n",
        "dictionary= {}\n",
        "# input nama file\n",
        "inputan = input(\"Masukkan nama file: \")\n",
        "#try dan except buat 2kemungkinan\n",
        "try:\n",
        "    #buka file mbox\n",
        "    mbox = mailbox.mbox(inputan)\n",
        "    for message in mbox:\n",
        "        # Mendapatkan alamat email pengirim\n",
        "        pengirim = message['From']\n",
        "        dictionary[pengirim] = dictionary.get(pengirim, 0) + 1\n",
        "    # print output\n",
        "    print(dictionary)\n",
        "except FileNotFoundError:\n",
        "    print(\"File tidak ditemukan.\")"
      ],
      "metadata": {
        "id": "SDEznpvxYNta"
      },
      "execution_count": null,
      "outputs": []
    },
    {
      "cell_type": "code",
      "source": [
        "dictionary = {}\n",
        "# inputan\n",
        "inputan = input(\"Masukkan nama file: \")\n",
        "try:\n",
        "    # Membuka file\n",
        "    file = open(inputan)\n",
        "        # reading\n",
        "    for line in file:\n",
        "            # checking\n",
        "            if line.startswith('From '):\n",
        "                # Membagi baris menjadi kata-kata\n",
        "                words = line.split()\n",
        "                email = words[1]\n",
        "                domain = email.split('@')[1]\n",
        "                # Memperbarui dictionary\n",
        "                dictionary[domain] = dictionary.get(domain, 0) + 1\n",
        "    # output\n",
        "    print(dictionary)\n",
        "except FileNotFoundError:\n",
        "    print(\"File tidak ditemukan.\")\n",
        "\n",
        "\n",
        "\n",
        "\n",
        "\n"
      ],
      "metadata": {
        "id": "S3eF_hdAMbVR"
      },
      "execution_count": null,
      "outputs": []
    }
  ]
}